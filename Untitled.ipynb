{
 "cells": [
  {
   "cell_type": "code",
   "execution_count": 214,
   "metadata": {},
   "outputs": [],
   "source": [
    "import numpy as np\n",
    "import pandas as pd\n",
    "import matplotlib.pyplot as plt\n",
    "%matplotlib inline"
   ]
  },
  {
   "cell_type": "code",
   "execution_count": 215,
   "metadata": {},
   "outputs": [
    {
     "data": {
      "text/html": [
       "<div>\n",
       "<style scoped>\n",
       "    .dataframe tbody tr th:only-of-type {\n",
       "        vertical-align: middle;\n",
       "    }\n",
       "\n",
       "    .dataframe tbody tr th {\n",
       "        vertical-align: top;\n",
       "    }\n",
       "\n",
       "    .dataframe thead th {\n",
       "        text-align: right;\n",
       "    }\n",
       "</style>\n",
       "<table border=\"1\" class=\"dataframe\">\n",
       "  <thead>\n",
       "    <tr style=\"text-align: right;\">\n",
       "      <th></th>\n",
       "      <th>Age</th>\n",
       "      <th>Gender</th>\n",
       "      <th>Height</th>\n",
       "      <th>Weight</th>\n",
       "      <th>BMI</th>\n",
       "      <th>PhysicalActivityLevel</th>\n",
       "      <th>ObesityCategory</th>\n",
       "    </tr>\n",
       "  </thead>\n",
       "  <tbody>\n",
       "    <tr>\n",
       "      <th>0</th>\n",
       "      <td>56</td>\n",
       "      <td>Male</td>\n",
       "      <td>173.575262</td>\n",
       "      <td>71.982051</td>\n",
       "      <td>23.891783</td>\n",
       "      <td>4</td>\n",
       "      <td>Normal weight</td>\n",
       "    </tr>\n",
       "    <tr>\n",
       "      <th>1</th>\n",
       "      <td>69</td>\n",
       "      <td>Male</td>\n",
       "      <td>164.127306</td>\n",
       "      <td>89.959256</td>\n",
       "      <td>33.395209</td>\n",
       "      <td>2</td>\n",
       "      <td>NaN</td>\n",
       "    </tr>\n",
       "    <tr>\n",
       "      <th>2</th>\n",
       "      <td>46</td>\n",
       "      <td>Female</td>\n",
       "      <td>168.072202</td>\n",
       "      <td>72.930629</td>\n",
       "      <td>25.817737</td>\n",
       "      <td>4</td>\n",
       "      <td>Overweight</td>\n",
       "    </tr>\n",
       "    <tr>\n",
       "      <th>3</th>\n",
       "      <td>32</td>\n",
       "      <td>Male</td>\n",
       "      <td>168.459633</td>\n",
       "      <td>84.886912</td>\n",
       "      <td>29.912247</td>\n",
       "      <td>3</td>\n",
       "      <td>Overweight</td>\n",
       "    </tr>\n",
       "    <tr>\n",
       "      <th>4</th>\n",
       "      <td>60</td>\n",
       "      <td>Male</td>\n",
       "      <td>183.568568</td>\n",
       "      <td>69.038945</td>\n",
       "      <td>20.487903</td>\n",
       "      <td>3</td>\n",
       "      <td>Normal weight</td>\n",
       "    </tr>\n",
       "    <tr>\n",
       "      <th>...</th>\n",
       "      <td>...</td>\n",
       "      <td>...</td>\n",
       "      <td>...</td>\n",
       "      <td>...</td>\n",
       "      <td>...</td>\n",
       "      <td>...</td>\n",
       "      <td>...</td>\n",
       "    </tr>\n",
       "    <tr>\n",
       "      <th>995</th>\n",
       "      <td>18</td>\n",
       "      <td>Male</td>\n",
       "      <td>155.588674</td>\n",
       "      <td>64.103182</td>\n",
       "      <td>26.480345</td>\n",
       "      <td>4</td>\n",
       "      <td>Overweight</td>\n",
       "    </tr>\n",
       "    <tr>\n",
       "      <th>996</th>\n",
       "      <td>35</td>\n",
       "      <td>Female</td>\n",
       "      <td>165.076490</td>\n",
       "      <td>97.639771</td>\n",
       "      <td>35.830783</td>\n",
       "      <td>1</td>\n",
       "      <td>Obese</td>\n",
       "    </tr>\n",
       "    <tr>\n",
       "      <th>997</th>\n",
       "      <td>49</td>\n",
       "      <td>Female</td>\n",
       "      <td>156.570956</td>\n",
       "      <td>78.804284</td>\n",
       "      <td>32.146036</td>\n",
       "      <td>1</td>\n",
       "      <td>Obese</td>\n",
       "    </tr>\n",
       "    <tr>\n",
       "      <th>998</th>\n",
       "      <td>64</td>\n",
       "      <td>Male</td>\n",
       "      <td>164.192222</td>\n",
       "      <td>57.978115</td>\n",
       "      <td>21.505965</td>\n",
       "      <td>4</td>\n",
       "      <td>Normal weight</td>\n",
       "    </tr>\n",
       "    <tr>\n",
       "      <th>999</th>\n",
       "      <td>66</td>\n",
       "      <td>Female</td>\n",
       "      <td>178.537130</td>\n",
       "      <td>74.962164</td>\n",
       "      <td>NaN</td>\n",
       "      <td>1</td>\n",
       "      <td>Normal weight</td>\n",
       "    </tr>\n",
       "  </tbody>\n",
       "</table>\n",
       "<p>1000 rows × 7 columns</p>\n",
       "</div>"
      ],
      "text/plain": [
       "     Age  Gender      Height     Weight        BMI  PhysicalActivityLevel  \\\n",
       "0     56    Male  173.575262  71.982051  23.891783                      4   \n",
       "1     69    Male  164.127306  89.959256  33.395209                      2   \n",
       "2     46  Female  168.072202  72.930629  25.817737                      4   \n",
       "3     32    Male  168.459633  84.886912  29.912247                      3   \n",
       "4     60    Male  183.568568  69.038945  20.487903                      3   \n",
       "..   ...     ...         ...        ...        ...                    ...   \n",
       "995   18    Male  155.588674  64.103182  26.480345                      4   \n",
       "996   35  Female  165.076490  97.639771  35.830783                      1   \n",
       "997   49  Female  156.570956  78.804284  32.146036                      1   \n",
       "998   64    Male  164.192222  57.978115  21.505965                      4   \n",
       "999   66  Female  178.537130  74.962164        NaN                      1   \n",
       "\n",
       "    ObesityCategory  \n",
       "0     Normal weight  \n",
       "1               NaN  \n",
       "2        Overweight  \n",
       "3        Overweight  \n",
       "4     Normal weight  \n",
       "..              ...  \n",
       "995      Overweight  \n",
       "996           Obese  \n",
       "997           Obese  \n",
       "998   Normal weight  \n",
       "999   Normal weight  \n",
       "\n",
       "[1000 rows x 7 columns]"
      ]
     },
     "execution_count": 215,
     "metadata": {},
     "output_type": "execute_result"
    }
   ],
   "source": [
    "missing_values = [\"na\",\"Na\",\"NA\",\"n/a\",\"N/a\",\"N/A\",\"Nan\",\"NAN\",\"NaN\",\"\",\" \",np.nan]\n",
    "df = pd.read_csv(\"obesity_data.csv\", na_values = missing_values)\n",
    "df"
   ]
  },
  {
   "cell_type": "code",
   "execution_count": 216,
   "metadata": {},
   "outputs": [
    {
     "data": {
      "text/html": [
       "<div>\n",
       "<style scoped>\n",
       "    .dataframe tbody tr th:only-of-type {\n",
       "        vertical-align: middle;\n",
       "    }\n",
       "\n",
       "    .dataframe tbody tr th {\n",
       "        vertical-align: top;\n",
       "    }\n",
       "\n",
       "    .dataframe thead th {\n",
       "        text-align: right;\n",
       "    }\n",
       "</style>\n",
       "<table border=\"1\" class=\"dataframe\">\n",
       "  <thead>\n",
       "    <tr style=\"text-align: right;\">\n",
       "      <th></th>\n",
       "      <th>Age</th>\n",
       "      <th>Gender</th>\n",
       "      <th>Height</th>\n",
       "      <th>Weight</th>\n",
       "      <th>BMI</th>\n",
       "      <th>PhysicalActivityLevel</th>\n",
       "      <th>ObesityCategory</th>\n",
       "    </tr>\n",
       "  </thead>\n",
       "  <tbody>\n",
       "    <tr>\n",
       "      <th>0</th>\n",
       "      <td>56</td>\n",
       "      <td>Male</td>\n",
       "      <td>173.575262</td>\n",
       "      <td>71.982051</td>\n",
       "      <td>23.891783</td>\n",
       "      <td>4</td>\n",
       "      <td>Normal weight</td>\n",
       "    </tr>\n",
       "    <tr>\n",
       "      <th>2</th>\n",
       "      <td>46</td>\n",
       "      <td>Female</td>\n",
       "      <td>168.072202</td>\n",
       "      <td>72.930629</td>\n",
       "      <td>25.817737</td>\n",
       "      <td>4</td>\n",
       "      <td>Overweight</td>\n",
       "    </tr>\n",
       "    <tr>\n",
       "      <th>3</th>\n",
       "      <td>32</td>\n",
       "      <td>Male</td>\n",
       "      <td>168.459633</td>\n",
       "      <td>84.886912</td>\n",
       "      <td>29.912247</td>\n",
       "      <td>3</td>\n",
       "      <td>Overweight</td>\n",
       "    </tr>\n",
       "    <tr>\n",
       "      <th>4</th>\n",
       "      <td>60</td>\n",
       "      <td>Male</td>\n",
       "      <td>183.568568</td>\n",
       "      <td>69.038945</td>\n",
       "      <td>20.487903</td>\n",
       "      <td>3</td>\n",
       "      <td>Normal weight</td>\n",
       "    </tr>\n",
       "    <tr>\n",
       "      <th>5</th>\n",
       "      <td>25</td>\n",
       "      <td>Female</td>\n",
       "      <td>166.405627</td>\n",
       "      <td>61.145868</td>\n",
       "      <td>22.081628</td>\n",
       "      <td>4</td>\n",
       "      <td>Normal weight</td>\n",
       "    </tr>\n",
       "    <tr>\n",
       "      <th>...</th>\n",
       "      <td>...</td>\n",
       "      <td>...</td>\n",
       "      <td>...</td>\n",
       "      <td>...</td>\n",
       "      <td>...</td>\n",
       "      <td>...</td>\n",
       "      <td>...</td>\n",
       "    </tr>\n",
       "    <tr>\n",
       "      <th>994</th>\n",
       "      <td>71</td>\n",
       "      <td>Female</td>\n",
       "      <td>146.156433</td>\n",
       "      <td>101.587522</td>\n",
       "      <td>47.555910</td>\n",
       "      <td>2</td>\n",
       "      <td>Obese</td>\n",
       "    </tr>\n",
       "    <tr>\n",
       "      <th>995</th>\n",
       "      <td>18</td>\n",
       "      <td>Male</td>\n",
       "      <td>155.588674</td>\n",
       "      <td>64.103182</td>\n",
       "      <td>26.480345</td>\n",
       "      <td>4</td>\n",
       "      <td>Overweight</td>\n",
       "    </tr>\n",
       "    <tr>\n",
       "      <th>996</th>\n",
       "      <td>35</td>\n",
       "      <td>Female</td>\n",
       "      <td>165.076490</td>\n",
       "      <td>97.639771</td>\n",
       "      <td>35.830783</td>\n",
       "      <td>1</td>\n",
       "      <td>Obese</td>\n",
       "    </tr>\n",
       "    <tr>\n",
       "      <th>997</th>\n",
       "      <td>49</td>\n",
       "      <td>Female</td>\n",
       "      <td>156.570956</td>\n",
       "      <td>78.804284</td>\n",
       "      <td>32.146036</td>\n",
       "      <td>1</td>\n",
       "      <td>Obese</td>\n",
       "    </tr>\n",
       "    <tr>\n",
       "      <th>998</th>\n",
       "      <td>64</td>\n",
       "      <td>Male</td>\n",
       "      <td>164.192222</td>\n",
       "      <td>57.978115</td>\n",
       "      <td>21.505965</td>\n",
       "      <td>4</td>\n",
       "      <td>Normal weight</td>\n",
       "    </tr>\n",
       "  </tbody>\n",
       "</table>\n",
       "<p>995 rows × 7 columns</p>\n",
       "</div>"
      ],
      "text/plain": [
       "     Age  Gender      Height      Weight        BMI  PhysicalActivityLevel  \\\n",
       "0     56    Male  173.575262   71.982051  23.891783                      4   \n",
       "2     46  Female  168.072202   72.930629  25.817737                      4   \n",
       "3     32    Male  168.459633   84.886912  29.912247                      3   \n",
       "4     60    Male  183.568568   69.038945  20.487903                      3   \n",
       "5     25  Female  166.405627   61.145868  22.081628                      4   \n",
       "..   ...     ...         ...         ...        ...                    ...   \n",
       "994   71  Female  146.156433  101.587522  47.555910                      2   \n",
       "995   18    Male  155.588674   64.103182  26.480345                      4   \n",
       "996   35  Female  165.076490   97.639771  35.830783                      1   \n",
       "997   49  Female  156.570956   78.804284  32.146036                      1   \n",
       "998   64    Male  164.192222   57.978115  21.505965                      4   \n",
       "\n",
       "    ObesityCategory  \n",
       "0     Normal weight  \n",
       "2        Overweight  \n",
       "3        Overweight  \n",
       "4     Normal weight  \n",
       "5     Normal weight  \n",
       "..              ...  \n",
       "994           Obese  \n",
       "995      Overweight  \n",
       "996           Obese  \n",
       "997           Obese  \n",
       "998   Normal weight  \n",
       "\n",
       "[995 rows x 7 columns]"
      ]
     },
     "execution_count": 216,
     "metadata": {},
     "output_type": "execute_result"
    }
   ],
   "source": [
    "df.dropna(inplace=True)\n",
    "df"
   ]
  },
  {
   "cell_type": "code",
   "execution_count": 217,
   "metadata": {},
   "outputs": [
    {
     "data": {
      "text/html": [
       "<div>\n",
       "<style scoped>\n",
       "    .dataframe tbody tr th:only-of-type {\n",
       "        vertical-align: middle;\n",
       "    }\n",
       "\n",
       "    .dataframe tbody tr th {\n",
       "        vertical-align: top;\n",
       "    }\n",
       "\n",
       "    .dataframe thead th {\n",
       "        text-align: right;\n",
       "    }\n",
       "</style>\n",
       "<table border=\"1\" class=\"dataframe\">\n",
       "  <thead>\n",
       "    <tr style=\"text-align: right;\">\n",
       "      <th></th>\n",
       "      <th>Age</th>\n",
       "      <th>Height</th>\n",
       "      <th>Weight</th>\n",
       "      <th>BMI</th>\n",
       "      <th>PhysicalActivityLevel</th>\n",
       "    </tr>\n",
       "  </thead>\n",
       "  <tbody>\n",
       "    <tr>\n",
       "      <th>Age</th>\n",
       "      <td>1.000000</td>\n",
       "      <td>0.017634</td>\n",
       "      <td>-0.062909</td>\n",
       "      <td>-0.060294</td>\n",
       "      <td>-0.020500</td>\n",
       "    </tr>\n",
       "    <tr>\n",
       "      <th>Height</th>\n",
       "      <td>0.017634</td>\n",
       "      <td>1.000000</td>\n",
       "      <td>0.015903</td>\n",
       "      <td>-0.476914</td>\n",
       "      <td>0.031209</td>\n",
       "    </tr>\n",
       "    <tr>\n",
       "      <th>Weight</th>\n",
       "      <td>-0.062909</td>\n",
       "      <td>0.015903</td>\n",
       "      <td>1.000000</td>\n",
       "      <td>0.861571</td>\n",
       "      <td>0.066621</td>\n",
       "    </tr>\n",
       "    <tr>\n",
       "      <th>BMI</th>\n",
       "      <td>-0.060294</td>\n",
       "      <td>-0.476914</td>\n",
       "      <td>0.861571</td>\n",
       "      <td>1.000000</td>\n",
       "      <td>0.040316</td>\n",
       "    </tr>\n",
       "    <tr>\n",
       "      <th>PhysicalActivityLevel</th>\n",
       "      <td>-0.020500</td>\n",
       "      <td>0.031209</td>\n",
       "      <td>0.066621</td>\n",
       "      <td>0.040316</td>\n",
       "      <td>1.000000</td>\n",
       "    </tr>\n",
       "  </tbody>\n",
       "</table>\n",
       "</div>"
      ],
      "text/plain": [
       "                            Age    Height    Weight       BMI  \\\n",
       "Age                    1.000000  0.017634 -0.062909 -0.060294   \n",
       "Height                 0.017634  1.000000  0.015903 -0.476914   \n",
       "Weight                -0.062909  0.015903  1.000000  0.861571   \n",
       "BMI                   -0.060294 -0.476914  0.861571  1.000000   \n",
       "PhysicalActivityLevel -0.020500  0.031209  0.066621  0.040316   \n",
       "\n",
       "                       PhysicalActivityLevel  \n",
       "Age                                -0.020500  \n",
       "Height                              0.031209  \n",
       "Weight                              0.066621  \n",
       "BMI                                 0.040316  \n",
       "PhysicalActivityLevel               1.000000  "
      ]
     },
     "execution_count": 217,
     "metadata": {},
     "output_type": "execute_result"
    }
   ],
   "source": [
    "df.corr()"
   ]
  },
  {
   "cell_type": "code",
   "execution_count": 218,
   "metadata": {},
   "outputs": [
    {
     "data": {
      "image/png": "[encoded data removed]",
      "text/plain": [
       "<Figure size 432x288 with 1 Axes>"
      ]
     },
     "metadata": {
      "needs_background": "light"
     },
     "output_type": "display_data"
    }
   ],
   "source": [
    "plt.scatter(df[\"Weight\"],df[\"BMI\"])\n",
    "plt.show()"
   ]
  },
  {
   "cell_type": "code",
   "execution_count": 219,
   "metadata": {},
   "outputs": [],
   "source": [
    "from sklearn.linear_model import LinearRegression\n",
    "from sklearn.linear_model import LogisticRegression"
   ]
  },
  {
   "cell_type": "code",
   "execution_count": 220,
   "metadata": {},
   "outputs": [],
   "source": [
    "weight = np.array(df[\"Weight\"]).reshape(-1,1)\n",
    "bmi = np.array(df[\"BMI\"]).reshape(-1,1)"
   ]
  },
  {
   "cell_type": "code",
   "execution_count": 221,
   "metadata": {},
   "outputs": [
    {
     "data": {
      "text/plain": [
       "0.7257926094336041"
      ]
     },
     "execution_count": 221,
     "metadata": {},
     "output_type": "execute_result"
    }
   ],
   "source": [
    "from sklearn.model_selection import train_test_split\n",
    "\n",
    "x_test, x_train, y_test, y_train = train_test_split(weight, bmi, test_size=0.25)\n",
    "model = LinearRegression(normalize=True)\n",
    "model.fit(x_train,y_train)\n",
    "\n",
    "score = model.score(x_test, y_test)\n",
    "score"
   ]
  },
  {
   "cell_type": "code",
   "execution_count": 222,
   "metadata": {},
   "outputs": [
    {
     "data": {
      "text/html": [
       "<div>\n",
       "<style scoped>\n",
       "    .dataframe tbody tr th:only-of-type {\n",
       "        vertical-align: middle;\n",
       "    }\n",
       "\n",
       "    .dataframe tbody tr th {\n",
       "        vertical-align: top;\n",
       "    }\n",
       "\n",
       "    .dataframe thead th {\n",
       "        text-align: right;\n",
       "    }\n",
       "</style>\n",
       "<table border=\"1\" class=\"dataframe\">\n",
       "  <thead>\n",
       "    <tr style=\"text-align: right;\">\n",
       "      <th></th>\n",
       "      <th>Pregnancies</th>\n",
       "      <th>Glucose</th>\n",
       "      <th>BloodPressure</th>\n",
       "      <th>SkinThickness</th>\n",
       "      <th>Insulin</th>\n",
       "      <th>BMI</th>\n",
       "      <th>DiabetesPedigreeFunction</th>\n",
       "      <th>Age</th>\n",
       "      <th>Outcome</th>\n",
       "    </tr>\n",
       "  </thead>\n",
       "  <tbody>\n",
       "    <tr>\n",
       "      <th>0</th>\n",
       "      <td>6</td>\n",
       "      <td>148</td>\n",
       "      <td>72</td>\n",
       "      <td>35</td>\n",
       "      <td>0</td>\n",
       "      <td>33.6</td>\n",
       "      <td>0.627</td>\n",
       "      <td>50</td>\n",
       "      <td>1</td>\n",
       "    </tr>\n",
       "    <tr>\n",
       "      <th>1</th>\n",
       "      <td>1</td>\n",
       "      <td>85</td>\n",
       "      <td>66</td>\n",
       "      <td>29</td>\n",
       "      <td>0</td>\n",
       "      <td>26.6</td>\n",
       "      <td>0.351</td>\n",
       "      <td>31</td>\n",
       "      <td>0</td>\n",
       "    </tr>\n",
       "    <tr>\n",
       "      <th>2</th>\n",
       "      <td>8</td>\n",
       "      <td>183</td>\n",
       "      <td>64</td>\n",
       "      <td>0</td>\n",
       "      <td>0</td>\n",
       "      <td>23.3</td>\n",
       "      <td>0.672</td>\n",
       "      <td>32</td>\n",
       "      <td>1</td>\n",
       "    </tr>\n",
       "    <tr>\n",
       "      <th>3</th>\n",
       "      <td>1</td>\n",
       "      <td>89</td>\n",
       "      <td>66</td>\n",
       "      <td>23</td>\n",
       "      <td>94</td>\n",
       "      <td>28.1</td>\n",
       "      <td>0.167</td>\n",
       "      <td>21</td>\n",
       "      <td>0</td>\n",
       "    </tr>\n",
       "    <tr>\n",
       "      <th>4</th>\n",
       "      <td>0</td>\n",
       "      <td>137</td>\n",
       "      <td>40</td>\n",
       "      <td>35</td>\n",
       "      <td>168</td>\n",
       "      <td>43.1</td>\n",
       "      <td>2.288</td>\n",
       "      <td>33</td>\n",
       "      <td>1</td>\n",
       "    </tr>\n",
       "    <tr>\n",
       "      <th>...</th>\n",
       "      <td>...</td>\n",
       "      <td>...</td>\n",
       "      <td>...</td>\n",
       "      <td>...</td>\n",
       "      <td>...</td>\n",
       "      <td>...</td>\n",
       "      <td>...</td>\n",
       "      <td>...</td>\n",
       "      <td>...</td>\n",
       "    </tr>\n",
       "    <tr>\n",
       "      <th>763</th>\n",
       "      <td>10</td>\n",
       "      <td>101</td>\n",
       "      <td>76</td>\n",
       "      <td>48</td>\n",
       "      <td>180</td>\n",
       "      <td>32.9</td>\n",
       "      <td>0.171</td>\n",
       "      <td>63</td>\n",
       "      <td>0</td>\n",
       "    </tr>\n",
       "    <tr>\n",
       "      <th>764</th>\n",
       "      <td>2</td>\n",
       "      <td>122</td>\n",
       "      <td>70</td>\n",
       "      <td>27</td>\n",
       "      <td>0</td>\n",
       "      <td>36.8</td>\n",
       "      <td>0.340</td>\n",
       "      <td>27</td>\n",
       "      <td>0</td>\n",
       "    </tr>\n",
       "    <tr>\n",
       "      <th>765</th>\n",
       "      <td>5</td>\n",
       "      <td>121</td>\n",
       "      <td>72</td>\n",
       "      <td>23</td>\n",
       "      <td>112</td>\n",
       "      <td>26.2</td>\n",
       "      <td>0.245</td>\n",
       "      <td>30</td>\n",
       "      <td>0</td>\n",
       "    </tr>\n",
       "    <tr>\n",
       "      <th>766</th>\n",
       "      <td>1</td>\n",
       "      <td>126</td>\n",
       "      <td>60</td>\n",
       "      <td>0</td>\n",
       "      <td>0</td>\n",
       "      <td>30.1</td>\n",
       "      <td>0.349</td>\n",
       "      <td>47</td>\n",
       "      <td>1</td>\n",
       "    </tr>\n",
       "    <tr>\n",
       "      <th>767</th>\n",
       "      <td>1</td>\n",
       "      <td>93</td>\n",
       "      <td>70</td>\n",
       "      <td>31</td>\n",
       "      <td>0</td>\n",
       "      <td>30.4</td>\n",
       "      <td>0.315</td>\n",
       "      <td>23</td>\n",
       "      <td>0</td>\n",
       "    </tr>\n",
       "  </tbody>\n",
       "</table>\n",
       "<p>768 rows × 9 columns</p>\n",
       "</div>"
      ],
      "text/plain": [
       "     Pregnancies  Glucose  BloodPressure  SkinThickness  Insulin   BMI  \\\n",
       "0              6      148             72             35        0  33.6   \n",
       "1              1       85             66             29        0  26.6   \n",
       "2              8      183             64              0        0  23.3   \n",
       "3              1       89             66             23       94  28.1   \n",
       "4              0      137             40             35      168  43.1   \n",
       "..           ...      ...            ...            ...      ...   ...   \n",
       "763           10      101             76             48      180  32.9   \n",
       "764            2      122             70             27        0  36.8   \n",
       "765            5      121             72             23      112  26.2   \n",
       "766            1      126             60              0        0  30.1   \n",
       "767            1       93             70             31        0  30.4   \n",
       "\n",
       "     DiabetesPedigreeFunction  Age  Outcome  \n",
       "0                       0.627   50        1  \n",
       "1                       0.351   31        0  \n",
       "2                       0.672   32        1  \n",
       "3                       0.167   21        0  \n",
       "4                       2.288   33        1  \n",
       "..                        ...  ...      ...  \n",
       "763                     0.171   63        0  \n",
       "764                     0.340   27        0  \n",
       "765                     0.245   30        0  \n",
       "766                     0.349   47        1  \n",
       "767                     0.315   23        0  \n",
       "\n",
       "[768 rows x 9 columns]"
      ]
     },
     "execution_count": 222,
     "metadata": {},
     "output_type": "execute_result"
    }
   ],
   "source": [
    "ddf = pd.read_csv(\"diabetes2.csv\", na_values = missing_values)\n",
    "ddf.dropna(inplace = True)\n",
    "ddf"
   ]
  },
  {
   "cell_type": "markdown",
   "metadata": {},
   "source": [
    "### Logistic regression"
   ]
  },
  {
   "cell_type": "code",
   "execution_count": 223,
   "metadata": {},
   "outputs": [
    {
     "data": {
      "text/plain": [
       "0.7430555555555556"
      ]
     },
     "execution_count": 223,
     "metadata": {},
     "output_type": "execute_result"
    }
   ],
   "source": [
    "x = ddf.drop([\"Outcome\"], axis=\"columns\")\n",
    "y = ddf[\"Outcome\"]\n",
    "from sklearn.model_selection import train_test_split\n",
    "\n",
    "x_test, x_train, y_test, y_train = train_test_split(x,y, test_size = 0.25)\n",
    "\n",
    "lgModel = LogisticRegression(solver=\"liblinear\")\n",
    "lgModel.fit(x_train, y_train)\n",
    "score = lgModel.score(x_test, y_test)\n",
    "score"
   ]
  },
  {
   "cell_type": "code",
   "execution_count": 224,
   "metadata": {},
   "outputs": [
    {
     "name": "stdout",
     "output_type": "stream",
     "text": [
      "accuracy:  0.7430555555555556\n",
      "precision:  0.7301587301587301\n",
      "recall:  0.44660194174757284\n",
      "f1score:  0.5542168674698796\n"
     ]
    },
    {
     "data": {
      "text/plain": [
       "<matplotlib.axes._subplots.AxesSubplot at 0x2905f72c6c8>"
      ]
     },
     "execution_count": 224,
     "metadata": {},
     "output_type": "execute_result"
    },
    {
     "data": {
      "image/png": "[encoded data removed]",
      "text/plain": [
       "<Figure size 432x288 with 2 Axes>"
      ]
     },
     "metadata": {
      "needs_background": "light"
     },
     "output_type": "display_data"
    }
   ],
   "source": [
    "from sklearn import metrics\n",
    "import seaborn as sns\n",
    "\n",
    "y_pred = lgModel.predict(x_test)\n",
    "lr_accuracy = metrics.accuracy_score(y_test,y_pred)\n",
    "precision = metrics.precision_score(y_test,y_pred)\n",
    "recall = metrics.recall_score(y_test,y_pred)\n",
    "f1score = metrics.f1_score(y_test,y_pred)\n",
    "confusion = metrics.confusion_matrix(y_test,y_pred)\n",
    "print(\"accuracy: \", lr_accuracy)\n",
    "print(\"precision: \", precision)\n",
    "print(\"recall: \", recall)\n",
    "print(\"f1score: \", f1score)\n",
    "sns.heatmap(confusion, annot=True)"
   ]
  },
  {
   "cell_type": "markdown",
   "metadata": {},
   "source": [
    "### SVM"
   ]
  },
  {
   "cell_type": "code",
   "execution_count": 225,
   "metadata": {},
   "outputs": [
    {
     "data": {
      "text/plain": [
       "0.7760416666666666"
      ]
     },
     "execution_count": 225,
     "metadata": {},
     "output_type": "execute_result"
    }
   ],
   "source": [
    "from sklearn import svm\n",
    "\n",
    "svModel = svm.SVC(kernel=\"linear\")\n",
    "svModel.fit(x_train,y_train)\n",
    "score = svModel.score(x_test,y_test)\n",
    "score"
   ]
  },
  {
   "cell_type": "code",
   "execution_count": 226,
   "metadata": {},
   "outputs": [
    {
     "name": "stdout",
     "output_type": "stream",
     "text": [
      "accuracy:  0.7760416666666666\n",
      "precision:  0.7769784172661871\n",
      "recall:  0.5242718446601942\n",
      "f1score:  0.5542168674698796\n"
     ]
    },
    {
     "data": {
      "text/plain": [
       "<matplotlib.axes._subplots.AxesSubplot at 0x2905f7bea88>"
      ]
     },
     "execution_count": 226,
     "metadata": {},
     "output_type": "execute_result"
    },
    {
     "data": {
      "image/png": "[encoded data removed]",
      "text/plain": [
       "<Figure size 432x288 with 2 Axes>"
      ]
     },
     "metadata": {
      "needs_background": "light"
     },
     "output_type": "display_data"
    }
   ],
   "source": [
    "from sklearn import metrics\n",
    "import seaborn as sns\n",
    "\n",
    "y_pred = svModel.predict(x_test)\n",
    "\n",
    "svm_accuracy = metrics.accuracy_score(y_test, y_pred)\n",
    "precision = metrics.precision_score(y_test,y_pred)\n",
    "recall = metrics.recall_score(y_test,y_pred)\n",
    "f1Score = metrics.f1_score(y_test,y_pred)\n",
    "confusion = metrics.confusion_matrix(y_test,y_pred)\n",
    "print(\"accuracy: \", svm_accuracy)\n",
    "print(\"precision: \", precision)\n",
    "print(\"recall: \", recall)\n",
    "print(\"f1score: \", f1score)\n",
    "confusion\n",
    "sns.heatmap(confusion,annot=True)"
   ]
  },
  {
   "cell_type": "code",
   "execution_count": 227,
   "metadata": {},
   "outputs": [],
   "source": [
    "from sklearn import tree"
   ]
  },
  {
   "cell_type": "code",
   "execution_count": 228,
   "metadata": {},
   "outputs": [
    {
     "data": {
      "image/png": "[encoded data removed]",
      "text/plain": [
       "<Figure size 432x288 with 1 Axes>"
      ]
     },
     "metadata": {
      "needs_background": "light"
     },
     "output_type": "display_data"
    }
   ],
   "source": [
    "trModel = tree.DecisionTreeClassifier(max_depth=4)\n",
    "trModel.fit(x_train,y_train)\n",
    "tree.plot_tree(trModel,filled=True)\n",
    "\n",
    "y_pred = trModel.predict(x_test)"
   ]
  },
  {
   "cell_type": "code",
   "execution_count": 229,
   "metadata": {},
   "outputs": [
    {
     "name": "stdout",
     "output_type": "stream",
     "text": [
      "accuracy:  0.7118055555555556\n",
      "precision:  0.631578947368421\n",
      "recall:  0.46601941747572817\n",
      "f1score:  0.5542168674698796\n"
     ]
    },
    {
     "data": {
      "text/plain": [
       "<matplotlib.axes._subplots.AxesSubplot at 0x2905f8df6c8>"
      ]
     },
     "execution_count": 229,
     "metadata": {},
     "output_type": "execute_result"
    },
    {
     "data": {
      "image/png": "[encoded data removed]",
      "text/plain": [
       "<Figure size 432x288 with 2 Axes>"
      ]
     },
     "metadata": {
      "needs_background": "light"
     },
     "output_type": "display_data"
    }
   ],
   "source": [
    "dt_accuracy = metrics.accuracy_score(y_test, y_pred)\n",
    "precision = metrics.precision_score(y_test,y_pred)\n",
    "recall = metrics.recall_score(y_test,y_pred)\n",
    "f1Score = metrics.f1_score(y_test,y_pred)\n",
    "confusion = metrics.confusion_matrix(y_test,y_pred)\n",
    "print(\"accuracy: \", dt_accuracy)\n",
    "print(\"precision: \", precision)\n",
    "print(\"recall: \", recall)\n",
    "print(\"f1score: \", f1score)\n",
    "confusion\n",
    "sns.heatmap(confusion,annot=True)"
   ]
  },
  {
   "cell_type": "code",
   "execution_count": 230,
   "metadata": {},
   "outputs": [
    {
     "data": {
      "text/plain": [
       "<BarContainer object of 3 artists>"
      ]
     },
     "execution_count": 230,
     "metadata": {},
     "output_type": "execute_result"
    },
    {
     "data": {
      "image/png": "[encoded data removed]",
      "text/plain": [
       "<Figure size 432x288 with 1 Axes>"
      ]
     },
     "metadata": {
      "needs_background": "light"
     },
     "output_type": "display_data"
    }
   ],
   "source": [
    "algo_name = ['Logistic Regression','SVM','Decision Tree']\n",
    "algo_accuracy = [lr_accuracy,svm_accuracy, dt_accuracy]\n",
    "\n",
    "fit, ax = plt.subplots()\n",
    "ax.set(ylabel=\"algorithm\",title=\"accuracy\",ylim=(0,1))\n",
    "ax.bar(algo_name,algo_accuracy)"
   ]
  }
 ],
 "metadata": {
  "kernelspec": {
   "display_name": "Python 3",
   "language": "python",
   "name": "python3"
  },
  "language_info": {
   "codemirror_mode": {
    "name": "ipython",
    "version": 3
   },
   "file_extension": ".py",
   "mimetype": "text/x-python",
   "name": "python",
   "nbconvert_exporter": "python",
   "pygments_lexer": "ipython3",
   "version": "3.7.6"
  }
 },
 "nbformat": 4,
 "nbformat_minor": 4
}
